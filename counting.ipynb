{
  "nbformat": 4,
  "nbformat_minor": 0,
  "metadata": {
    "colab": {
      "provenance": [],
      "authorship_tag": "ABX9TyNEjgJliNg7l4xDxUx5Oa/2",
      "include_colab_link": true
    },
    "kernelspec": {
      "name": "python3",
      "display_name": "Python 3"
    },
    "language_info": {
      "name": "python"
    }
  },
  "cells": [
    {
      "cell_type": "markdown",
      "metadata": {
        "id": "view-in-github",
        "colab_type": "text"
      },
      "source": [
        "<a href=\"https://colab.research.google.com/github/muziejus/self-similar-melodies/blob/main/counting.ipynb\" target=\"_parent\"><img src=\"https://colab.research.google.com/assets/colab-badge.svg\" alt=\"Open In Colab\"/></a>"
      ]
    },
    {
      "cell_type": "markdown",
      "source": [
        "# Counting"
      ],
      "metadata": {
        "id": "wwM36qEUlj7s"
      }
    },
    {
      "cell_type": "code",
      "source": [
        "from typing import List, Union\n",
        "\n",
        "NestedList = Union[int, List['NestedList']]"
      ],
      "metadata": {
        "id": "h4DJJI7H2aPN"
      },
      "execution_count": 3,
      "outputs": []
    },
    {
      "cell_type": "markdown",
      "source": [
        "## Counting 123"
      ],
      "metadata": {
        "id": "bg1nu4bIloWn"
      }
    },
    {
      "cell_type": "code",
      "source": [
        "def simple_counting(n: int) -> NestedList:\n",
        "  \"\"\"\n",
        "  \"simple counting:\n",
        "  1\n",
        "  2\n",
        "  3\" (19)\n",
        "\n",
        "  Args:\n",
        "    n: an integer\n",
        "  Returns:\n",
        "    a list of integers from 1 to n\n",
        "  \"\"\"\n",
        "  return [i for i in range(1, n+1)]\n",
        "\n",
        "assert simple_counting(3) == [1, 2, 3], \"simple_counting(3) did not return [1, 2, 3]\"\n",
        "\n",
        "def accumulative(n: int) -> NestedList:\n",
        "  \"\"\"\n",
        "  \"accumulative (2 becomes 12 and 3 becomes 123).\" (19)\n",
        "\n",
        "  Args:\n",
        "    n: an integer\n",
        "  Returns:\n",
        "    a list of accumulating integers from 1 to n\n",
        "  \"\"\"\n",
        "  return [simple_counting(i) for i in range(1, n+1)]\n",
        "\n",
        "assert accumulative(3) == [[1], [1, 2], [1, 2, 3]], \"accumulative(3) did not return [[1], [1, 2], [1, 2, 3]]\"\n",
        "\n",
        "def repetitive(n: int) -> NestedList:\n",
        "  \"\"\"\n",
        "  \"repetitive… (every 2 becomes 22 and every 3 becomes 333)\" (19)\n",
        "\n",
        "  Args:\n",
        "    n: an integer\n",
        "  Returns:\n",
        "    a list of repetitive integers from 1 to n\n",
        "  \"\"\"\n",
        "  return [[i for j in range(1, i+1)] for i in range(1, n+1)]\n",
        "\n",
        "assert repetitive(3) == [[1], [2, 2], [3, 3, 3]], \"repetitive(3) did not return [[1], [2, 2], [3, 3, 3]]\""
      ],
      "metadata": {
        "id": "oHXDgkC5lqi2"
      },
      "execution_count": 9,
      "outputs": []
    },
    {
      "cell_type": "code",
      "source": [
        "repetitive(3)"
      ],
      "metadata": {
        "colab": {
          "base_uri": "https://localhost:8080/"
        },
        "id": "fDXOAdqF5dDu",
        "outputId": "093fb118-3a09-45f3-e5b4-d1d442be253b"
      },
      "execution_count": 10,
      "outputs": [
        {
          "output_type": "execute_result",
          "data": {
            "text/plain": [
              "[[1], [2, 2], [3, 3, 3]]"
            ]
          },
          "metadata": {},
          "execution_count": 10
        }
      ]
    },
    {
      "cell_type": "markdown",
      "source": [
        "## Counting Several Things at Once"
      ],
      "metadata": {
        "id": "wTekVdyblqzj"
      }
    },
    {
      "cell_type": "code",
      "source": [],
      "metadata": {
        "id": "Fxog-lDsltfG"
      },
      "execution_count": null,
      "outputs": []
    },
    {
      "cell_type": "markdown",
      "source": [
        "## Counting in Other Bases"
      ],
      "metadata": {
        "id": "i9sJjD-CluD4"
      }
    },
    {
      "cell_type": "code",
      "source": [],
      "metadata": {
        "id": "oWl4iotslv5D"
      },
      "execution_count": null,
      "outputs": []
    },
    {
      "cell_type": "markdown",
      "source": [
        "## Counting in Circles"
      ],
      "metadata": {
        "id": "v3jQ1tFXlwc_"
      }
    },
    {
      "cell_type": "code",
      "source": [],
      "metadata": {
        "id": "yF7x_ydGlytQ"
      },
      "execution_count": null,
      "outputs": []
    },
    {
      "cell_type": "markdown",
      "source": [
        "## Counting with Computer"
      ],
      "metadata": {
        "id": "R35kjhhylzbE"
      }
    },
    {
      "cell_type": "code",
      "source": [],
      "metadata": {
        "id": "wxA0GtHAl1Nw"
      },
      "execution_count": null,
      "outputs": []
    }
  ]
}