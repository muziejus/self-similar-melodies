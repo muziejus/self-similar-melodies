{
  "nbformat": 4,
  "nbformat_minor": 0,
  "metadata": {
    "colab": {
      "provenance": [],
      "authorship_tag": "ABX9TyPz+joOrDis5nq6D2GJYZA/",
      "include_colab_link": true
    },
    "kernelspec": {
      "name": "python3",
      "display_name": "Python 3"
    },
    "language_info": {
      "name": "python"
    }
  },
  "cells": [
    {
      "cell_type": "markdown",
      "metadata": {
        "id": "view-in-github",
        "colab_type": "text"
      },
      "source": [
        "<a href=\"https://colab.research.google.com/github/muziejus/self-similar-melodies/blob/main/notebooks/self_replicating.ipynb\" target=\"_parent\"><img src=\"https://colab.research.google.com/assets/colab-badge.svg\" alt=\"Open In Colab\"/></a>"
      ]
    },
    {
      "cell_type": "markdown",
      "source": [
        "# Self-Replicating"
      ],
      "metadata": {
        "id": "OaSdkKCPnrrJ"
      }
    },
    {
      "cell_type": "code",
      "source": [],
      "metadata": {
        "id": "iE18P6RJntXb"
      },
      "execution_count": null,
      "outputs": []
    },
    {
      "cell_type": "markdown",
      "source": [
        "## Self-Replicating Melodies"
      ],
      "metadata": {
        "id": "st6nDjuDnt3M"
      }
    },
    {
      "cell_type": "code",
      "execution_count": null,
      "metadata": {
        "id": "r98ANki7npzc"
      },
      "outputs": [],
      "source": []
    },
    {
      "cell_type": "markdown",
      "source": [
        "## Self-Replicating Several Ratios"
      ],
      "metadata": {
        "id": "MpupSsP5n4HO"
      }
    },
    {
      "cell_type": "code",
      "source": [],
      "metadata": {
        "id": "xiJ6Fkafn6gs"
      },
      "execution_count": null,
      "outputs": []
    },
    {
      "cell_type": "markdown",
      "source": [
        "## Self-Replicating Related Melodies"
      ],
      "metadata": {
        "id": "yY2BBIfnn7Xk"
      }
    },
    {
      "cell_type": "code",
      "source": [],
      "metadata": {
        "id": "y0LA2LaCn96B"
      },
      "execution_count": null,
      "outputs": []
    },
    {
      "cell_type": "markdown",
      "source": [
        "## Self-Replicating with Holes"
      ],
      "metadata": {
        "id": "oBWazhJXn-nW"
      }
    },
    {
      "cell_type": "code",
      "source": [],
      "metadata": {
        "id": "LffmSlNVoDFn"
      },
      "execution_count": null,
      "outputs": []
    }
  ]
}