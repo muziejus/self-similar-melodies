{
  "nbformat": 4,
  "nbformat_minor": 0,
  "metadata": {
    "colab": {
      "provenance": [],
      "authorship_tag": "ABX9TyMjK9kHkROH7WF911yT6o6O",
      "include_colab_link": true
    },
    "kernelspec": {
      "name": "python3",
      "display_name": "Python 3"
    },
    "language_info": {
      "name": "python"
    }
  },
  "cells": [
    {
      "cell_type": "markdown",
      "metadata": {
        "id": "view-in-github",
        "colab_type": "text"
      },
      "source": [
        "<a href=\"https://colab.research.google.com/github/muziejus/self-similar-melodies/blob/main/notebooks/transforming.ipynb\" target=\"_parent\"><img src=\"https://colab.research.google.com/assets/colab-badge.svg\" alt=\"Open In Colab\"/></a>"
      ]
    },
    {
      "cell_type": "markdown",
      "source": [
        "# Transforming"
      ],
      "metadata": {
        "id": "UPurANqSmIue"
      }
    },
    {
      "cell_type": "code",
      "execution_count": null,
      "metadata": {
        "id": "9w_1TxnZmH5r"
      },
      "outputs": [],
      "source": []
    },
    {
      "cell_type": "markdown",
      "source": [
        "## Transforming Ones and Zeros"
      ],
      "metadata": {
        "id": "apQlYga5mLaA"
      }
    },
    {
      "cell_type": "code",
      "source": [],
      "metadata": {
        "id": "rXwdgQg4mNxh"
      },
      "execution_count": null,
      "outputs": []
    },
    {
      "cell_type": "markdown",
      "source": [
        "## Transforming Dragons"
      ],
      "metadata": {
        "id": "ahu_IDtxmOr2"
      }
    },
    {
      "cell_type": "code",
      "source": [],
      "metadata": {
        "id": "BKTGarLKmRJK"
      },
      "execution_count": null,
      "outputs": []
    },
    {
      "cell_type": "markdown",
      "source": [
        "## Transforming by Finite Automation"
      ],
      "metadata": {
        "id": "0L-9MaXLmRiI"
      }
    },
    {
      "cell_type": "code",
      "source": [],
      "metadata": {
        "id": "L-pYvzPWmTkV"
      },
      "execution_count": null,
      "outputs": []
    },
    {
      "cell_type": "markdown",
      "source": [
        "## Transforming by Infinite Automation"
      ],
      "metadata": {
        "id": "qbXcebxpmUWs"
      }
    },
    {
      "cell_type": "code",
      "source": [],
      "metadata": {
        "id": "97xofxSjmWg6"
      },
      "execution_count": null,
      "outputs": []
    },
    {
      "cell_type": "markdown",
      "source": [
        "## Transforming Sandwiches"
      ],
      "metadata": {
        "id": "BW4W5R9RmXCB"
      }
    },
    {
      "cell_type": "code",
      "source": [],
      "metadata": {
        "id": "BQyCoWfymY00"
      },
      "execution_count": null,
      "outputs": []
    },
    {
      "cell_type": "markdown",
      "source": [
        "## Transforming by Erasing"
      ],
      "metadata": {
        "id": "Eo8WkCVFmZZ1"
      }
    },
    {
      "cell_type": "code",
      "source": [],
      "metadata": {
        "id": "ejrmt18umb9D"
      },
      "execution_count": null,
      "outputs": []
    },
    {
      "cell_type": "markdown",
      "source": [
        "## Transforming with Delays"
      ],
      "metadata": {
        "id": "9fywJgP4mdMo"
      }
    },
    {
      "cell_type": "code",
      "source": [],
      "metadata": {
        "id": "zkhBOELQmhvR"
      },
      "execution_count": null,
      "outputs": []
    },
    {
      "cell_type": "markdown",
      "source": [
        "## Transforming Hybrids"
      ],
      "metadata": {
        "id": "Kv3e3G39mf9y"
      }
    },
    {
      "cell_type": "code",
      "source": [],
      "metadata": {
        "id": "0pULC9-Bmj5I"
      },
      "execution_count": null,
      "outputs": []
    },
    {
      "cell_type": "markdown",
      "source": [
        "## Transforming in Parts"
      ],
      "metadata": {
        "id": "Lnj-O_uNmkkG"
      }
    },
    {
      "cell_type": "code",
      "source": [],
      "metadata": {
        "id": "1d_fIZupmmyQ"
      },
      "execution_count": null,
      "outputs": []
    }
  ]
}