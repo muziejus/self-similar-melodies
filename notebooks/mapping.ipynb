{
  "nbformat": 4,
  "nbformat_minor": 0,
  "metadata": {
    "colab": {
      "provenance": [],
      "authorship_tag": "ABX9TyMj7OgBexF1uibvMOOT+/UK",
      "include_colab_link": true
    },
    "kernelspec": {
      "name": "python3",
      "display_name": "Python 3"
    },
    "language_info": {
      "name": "python"
    }
  },
  "cells": [
    {
      "cell_type": "markdown",
      "metadata": {
        "id": "view-in-github",
        "colab_type": "text"
      },
      "source": [
        "<a href=\"https://colab.research.google.com/github/muziejus/self-similar-melodies/blob/main/notebooks/mapping.ipynb\" target=\"_parent\"><img src=\"https://colab.research.google.com/assets/colab-badge.svg\" alt=\"Open In Colab\"/></a>"
      ]
    },
    {
      "cell_type": "markdown",
      "source": [
        "# Mapping"
      ],
      "metadata": {
        "id": "PAcFC5JRm6hW"
      }
    },
    {
      "cell_type": "code",
      "execution_count": null,
      "metadata": {
        "id": "OMfTykzfm3u2"
      },
      "outputs": [],
      "source": []
    },
    {
      "cell_type": "markdown",
      "source": [
        "## Mapping the Towers of Brahma"
      ],
      "metadata": {
        "id": "IFwJ7zPim8Hu"
      }
    },
    {
      "cell_type": "code",
      "source": [],
      "metadata": {
        "id": "f1SCTdEYm-RI"
      },
      "execution_count": null,
      "outputs": []
    },
    {
      "cell_type": "markdown",
      "source": [
        "## Mapping Pascal’s Triangle"
      ],
      "metadata": {
        "id": "zSIu8SDgm-9L"
      }
    },
    {
      "cell_type": "code",
      "source": [],
      "metadata": {
        "id": "0wst733pnA81"
      },
      "execution_count": null,
      "outputs": []
    },
    {
      "cell_type": "markdown",
      "source": [
        "## Mapping Fibonacci"
      ],
      "metadata": {
        "id": "tvGq0olInBxH"
      }
    },
    {
      "cell_type": "code",
      "source": [],
      "metadata": {
        "id": "DjaPktZRnDJN"
      },
      "execution_count": null,
      "outputs": []
    },
    {
      "cell_type": "markdown",
      "source": [
        "## Mapping Geometric Patterns"
      ],
      "metadata": {
        "id": "Z2kf_Dv2nDzl"
      }
    },
    {
      "cell_type": "code",
      "source": [],
      "metadata": {
        "id": "aOzKp0eanFvQ"
      },
      "execution_count": null,
      "outputs": []
    },
    {
      "cell_type": "markdown",
      "source": [
        "## Mapping Weaving Patterns"
      ],
      "metadata": {
        "id": "BVZtw98bnI_n"
      }
    },
    {
      "cell_type": "code",
      "source": [],
      "metadata": {
        "id": "5lahiiQCnLtR"
      },
      "execution_count": null,
      "outputs": []
    },
    {
      "cell_type": "markdown",
      "source": [
        "## Mapping with Computer"
      ],
      "metadata": {
        "id": "PpQxnxmPnPSQ"
      }
    },
    {
      "cell_type": "code",
      "source": [],
      "metadata": {
        "id": "7053C5ibnRga"
      },
      "execution_count": null,
      "outputs": []
    }
  ]
}