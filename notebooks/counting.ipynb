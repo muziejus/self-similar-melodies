{
  "nbformat": 4,
  "nbformat_minor": 0,
  "metadata": {
    "colab": {
      "provenance": [],
      "authorship_tag": "ABX9TyMd09Q/esqdkkAQrInjXVyf",
      "include_colab_link": true
    },
    "kernelspec": {
      "name": "python3",
      "display_name": "Python 3"
    },
    "language_info": {
      "name": "python"
    }
  },
  "cells": [
    {
      "cell_type": "markdown",
      "metadata": {
        "id": "view-in-github",
        "colab_type": "text"
      },
      "source": [
        "<a href=\"https://colab.research.google.com/github/muziejus/self-similar-melodies/blob/main/notebooks/counting.ipynb\" target=\"_parent\"><img src=\"https://colab.research.google.com/assets/colab-badge.svg\" alt=\"Open In Colab\"/></a>"
      ]
    },
    {
      "cell_type": "markdown",
      "source": [
        "# Counting"
      ],
      "metadata": {
        "id": "wwM36qEUlj7s"
      }
    },
    {
      "cell_type": "code",
      "source": [
        "from typing import List, Union\n",
        "\n",
        "NestedList = Union[int, List['NestedList']]\n",
        "\n",
        "def flatten(nested_list: NestedList) -> List[int]:\n",
        "    flat_list = []\n",
        "    for item in nested_list:\n",
        "        if isinstance(item, list):\n",
        "            flat_list.extend(flatten(item))\n",
        "        else:\n",
        "            flat_list.append(item)\n",
        "    return flat_list"
      ],
      "metadata": {
        "id": "h4DJJI7H2aPN"
      },
      "execution_count": 31,
      "outputs": []
    },
    {
      "cell_type": "markdown",
      "source": [
        "## Counting 123"
      ],
      "metadata": {
        "id": "bg1nu4bIloWn"
      }
    },
    {
      "cell_type": "code",
      "source": [
        "def simple_counting(n: int) -> List[int]:\n",
        "  \"\"\"\n",
        "  \"simple counting:\n",
        "  1\n",
        "  2\n",
        "  3\" (19)\n",
        "\n",
        "  Args:\n",
        "    n: an integer\n",
        "  Returns:\n",
        "    a list of integers from 1 to n\n",
        "  \"\"\"\n",
        "  return [i for i in range(1, n+1)]\n",
        "\n",
        "assert simple_counting(3) == [1, 2, 3], \"simple_counting(3) did not return [1, 2, 3]\"\n",
        "\n",
        "def accumulative(n: NestedList) -> NestedList:\n",
        "  \"\"\"\n",
        "  \"accumulative (2 becomes 12 and 3 becomes 123).\" (19)\n",
        "\n",
        "  Args:\n",
        "    n: an integer or nested list of integers.\n",
        "  Returns:\n",
        "    a list or nested list of accumulating groups of integers from 1 to n\n",
        "  \"\"\"\n",
        "  if isinstance(n, int):\n",
        "    return simple_counting(n)\n",
        "  else:\n",
        "    return [accumulative(i) for i in n]\n",
        "\n",
        "\n",
        "assert accumulative(simple_counting(3)) == [[1], [1, 2], [1, 2, 3]], \"accumulative(simple_counting(3)) did not return [[1], [1, 2], [1, 2, 3]]\"\n",
        "\n",
        "def repetitive(n: NestedList) -> NestedList:\n",
        "  \"\"\"\n",
        "  \"repetitive… (every 2 becomes 22 and every 3 becomes 333)\" (19)\n",
        "\n",
        "  Args:\n",
        "    n: an integer or nested list of integers.\n",
        "  Returns:\n",
        "    a list or nested list of repeating integers\n",
        "  \"\"\"\n",
        "  if isinstance(n, int):\n",
        "    return [n for i in range(n)]\n",
        "  else:\n",
        "    return [repetitive(i) for i in n]\n",
        "\n",
        "assert repetitive(simple_counting(3)) == [[1], [2, 2], [3, 3, 3]], \"repetitive(simple_counting(3)) did not return [[1], [2, 2], [3, 3, 3]]\""
      ],
      "metadata": {
        "id": "oHXDgkC5lqi2"
      },
      "execution_count": 44,
      "outputs": []
    },
    {
      "cell_type": "code",
      "source": [
        "# Page 19\n",
        "assert repetitive(accumulative(simple_counting(3))) == [[[1]], [[1], [2, 2]], [[1], [2, 2], [3, 3, 3]]], \\\n",
        "  \"repetitive(accumulative(simple_counting(3))) did not return [[[1]], [[1], [2, 2]], [[1], [2, 2], [3, 3, 3]]]\"\n",
        "assert accumulative(repetitive(simple_counting(3))) == [[[1]], [[1, 2], [1, 2]], [[1, 2, 3], [1, 2, 3], [1, 2, 3]]], \\\n",
        "  \"accumulative(repetitive(simple_counting(3))) did not return [[[1]], [[1, 2], [1, 2]], [[1, 2, 3], [1, 2, 3], [1, 2, 3]]]\""
      ],
      "metadata": {
        "id": "fDXOAdqF5dDu"
      },
      "execution_count": 45,
      "outputs": []
    },
    {
      "cell_type": "code",
      "source": [
        "# Page 20\n",
        "assert flatten(accumulative(accumulative(repetitive(accumulative(simple_counting(3)))))) == \\\n",
        "  [1, 1, 1, 1, 2, 1, 1, 2, 1, 1, 1, 2, 1, 1, 2, 1, 1, 2, 1, 2, 3, 1, 1, 2, 1, 2, 3, 1, 1, 2, 1, 2, 3], \\\n",
        "  \"flatten(accumulative(accumulative(repetitive(accumulative(simple_counting(3)))))) did not return [1, 1, 1, 1, 2, 1, 1, 2, 1, 1, 1, 2, 1, 1, 2, 1, 1, 2, 1, 2, 3, 1, 1, 2, 1, 2, 3, 1, 1, 2, 1, 2, 3]\""
      ],
      "metadata": {
        "id": "48YMQxU7_oel"
      },
      "execution_count": 46,
      "outputs": []
    },
    {
      "cell_type": "code",
      "source": [
        "def simple_palindrome(n: int) -> List[int]:\n",
        "  \"\"\"\n",
        "  \"simple:\n",
        "  1\n",
        "  2\n",
        "  3\n",
        "  2\n",
        "  1\" (24)\n",
        "\n",
        "  Args:\n",
        "    n: an integer\n",
        "  Returns:\n",
        "    a list of integers from 1 to n and then back to 1\n",
        "  \"\"\"\n",
        "  return [i for i in range(1, n + 1)] + [i for i in range(n - 1, 0, -1)]\n",
        "\n",
        "assert simple_palindrome(3) == [1, 2, 3, 2, 1], \"simple_palindrome(3) did not return [1, 2, 3, 2, 1]\"\n",
        "\n",
        "def accumulative_palindrome(n: NestedList) -> NestedList:\n",
        "  \"\"\"\n",
        "  \"accumulative:\n",
        "  1\n",
        "  1 2 1\n",
        "  1 2 3 2 1\n",
        "  1 2 1\n",
        "  1\" (24)\n",
        "\n",
        "  Args:\n",
        "    n: an integer or nested list of integers.\n",
        "  Returns:\n",
        "    a list or nested list of accumulating groups of integers from 1 to n and then back to 1\n",
        "  \"\"\"\n",
        "  if isinstance(n, int):\n",
        "    return simple_palindrome(n)\n",
        "  else:\n",
        "    return [accumulative_palindrome(i) for i in n]\n",
        "\n",
        "assert accumulative_palindrome(simple_palindrome(3)) == [[1], [1, 2, 1], [1, 2, 3, 2, 1], [1, 2, 1], [1]], \\\n",
        "  \"accumulative_palindrome(simple_palindrome(3)) did not return [[1], [1, 2, 1], [1, 2, 3, 2, 1], [1, 2, 1], [1]]\""
      ],
      "metadata": {
        "id": "P1ABYNdHCp_E"
      },
      "execution_count": 49,
      "outputs": []
    },
    {
      "cell_type": "code",
      "source": [
        "# Page 24\n",
        "assert flatten(accumulative_palindrome(accumulative_palindrome(simple_palindrome(3)))) == \\\n",
        "  [1, 1, 1, 2, 1, 1, 1, 1, 2, 1, 1, 2, 3, 2, 1, 1, 2, 1, 1, 1, 1, 2, 1, 1, 1],\\\n",
        "  \"flatten(accumulative_palindrome(accumulative_palindrome(simple_palindrome(3)))) did not return [1, 1, 1, 2, 1, 1, 1, 1, 2, 1, 1, 2, 3, 2, 1, 1, 2, 1, 1, 1, 1, 2, 1, 1, 1]\""
      ],
      "metadata": {
        "id": "GZ2XdWGREYJo"
      },
      "execution_count": 54,
      "outputs": []
    },
    {
      "cell_type": "code",
      "source": [
        "# Page 25\n",
        "assert flatten(repetitive(accumulative_palindrome(simple_palindrome(3)))) == \\\n",
        "  [1, 1, 2, 2, 1, 1, 2, 2, 3, 3, 3, 2, 2, 1, 1, 2, 2, 1, 1], \\\n",
        "  \"flatten(repetitive(accumulative_palindrome(simple_palindrome(3)))) didd not return [1, 1, 2, 2, 1, 1, 2, 2, 3, 3, 3, 2, 2, 1, 1, 2, 2, 1, 1]\"\n",
        "assert flatten(repetitive(simple_palindrome(3))) == [1, 2, 2, 3, 3, 3, 2, 2, 1], \\\n",
        "  \"flatten(repetitive(simple_palindrome(3))) didd not return [1, 2, 2, 3, 3, 3, 2, 2, 1]\""
      ],
      "metadata": {
        "id": "BShogLXBGu-U"
      },
      "execution_count": 56,
      "outputs": []
    },
    {
      "cell_type": "code",
      "source": [
        "# Page 26\n",
        "assert flatten(accumulative_palindrome(repetitive(simple_palindrome(3)))) == \\\n",
        "  [1, 1, 2, 1, 1, 2, 1, 1, 2, 3, 2, 1, 1, 2, 3, 2, 1, 1, 2, 3, 2, 1, 1, 2, 1, 1, 2, 1, 1], \\\n",
        "  \"flatten(accumulative_palindrome(repetitive(simple_palindrome(3)))) did not return [1, 1, 2, 1, 1, 2, 1, 1, 2, 3, 2, 1, 1, 2, 3, 2, 1, 1, 2, 3, 2, 1, 1, 2, 1, 1, 2, 1, 1]\""
      ],
      "metadata": {
        "id": "Aq9EYLLMHau4"
      },
      "execution_count": 59,
      "outputs": []
    },
    {
      "cell_type": "markdown",
      "source": [
        "## Counting Several Things at Once"
      ],
      "metadata": {
        "id": "wTekVdyblqzj"
      }
    },
    {
      "cell_type": "code",
      "source": [
        "repetitive(simple_palindrome(3))"
      ],
      "metadata": {
        "colab": {
          "base_uri": "https://localhost:8080/"
        },
        "id": "Fxog-lDsltfG",
        "outputId": "bfa28ae0-9c1b-4b62-d7d3-686cfb49be94"
      },
      "execution_count": 52,
      "outputs": [
        {
          "output_type": "execute_result",
          "data": {
            "text/plain": [
              "[[1], [2, 2], [3, 3, 3], [2, 2], [1]]"
            ]
          },
          "metadata": {},
          "execution_count": 52
        }
      ]
    },
    {
      "cell_type": "markdown",
      "source": [
        "## Counting in Other Bases"
      ],
      "metadata": {
        "id": "i9sJjD-CluD4"
      }
    },
    {
      "cell_type": "code",
      "source": [],
      "metadata": {
        "id": "oWl4iotslv5D"
      },
      "execution_count": null,
      "outputs": []
    },
    {
      "cell_type": "markdown",
      "source": [
        "## Counting in Circles"
      ],
      "metadata": {
        "id": "v3jQ1tFXlwc_"
      }
    },
    {
      "cell_type": "code",
      "source": [],
      "metadata": {
        "id": "yF7x_ydGlytQ"
      },
      "execution_count": null,
      "outputs": []
    },
    {
      "cell_type": "markdown",
      "source": [
        "## Counting with Computer"
      ],
      "metadata": {
        "id": "R35kjhhylzbE"
      }
    },
    {
      "cell_type": "code",
      "source": [],
      "metadata": {
        "id": "wxA0GtHAl1Nw"
      },
      "execution_count": null,
      "outputs": []
    }
  ]
}