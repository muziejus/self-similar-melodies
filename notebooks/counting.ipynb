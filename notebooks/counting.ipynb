{
  "nbformat": 4,
  "nbformat_minor": 0,
  "metadata": {
    "colab": {
      "provenance": [],
      "authorship_tag": "ABX9TyNK1Mk1+0XMtiQbcoy4RMjE",
      "include_colab_link": true
    },
    "kernelspec": {
      "name": "python3",
      "display_name": "Python 3"
    },
    "language_info": {
      "name": "python"
    }
  },
  "cells": [
    {
      "cell_type": "markdown",
      "metadata": {
        "id": "view-in-github",
        "colab_type": "text"
      },
      "source": [
        "<a href=\"https://colab.research.google.com/github/muziejus/self-similar-melodies/blob/main/notebooks/counting.ipynb\" target=\"_parent\"><img src=\"https://colab.research.google.com/assets/colab-badge.svg\" alt=\"Open In Colab\"/></a>"
      ]
    },
    {
      "cell_type": "markdown",
      "source": [
        "# Counting"
      ],
      "metadata": {
        "id": "wwM36qEUlj7s"
      }
    },
    {
      "cell_type": "code",
      "source": [
        "from typing import List, Union\n",
        "import itertools\n",
        "import math\n",
        "from math import gcd\n",
        "from functools import reduce\n",
        "\n",
        "NestedList = Union[int, List['NestedList']]\n",
        "\n",
        "def flatten(nested_list: NestedList) -> List[int]:\n",
        "    flat_list = []\n",
        "    for item in nested_list:\n",
        "        if isinstance(item, list):\n",
        "            flat_list.extend(flatten(item))\n",
        "        else:\n",
        "            flat_list.append(item)\n",
        "    return flat_list\n",
        "\n",
        "def lcm(a: int, b: int) -> int:\n",
        "    return abs(a*b) // gcd(a, b)\n",
        "\n",
        "def lcm_of_list(numbers: List[int]) -> int:\n",
        "    return reduce(lcm, numbers)\n",
        "\n",
        "def min_cycle_length(lists: NestedList) -> int:\n",
        "    lengths = [len(lst) for lst in lists]\n",
        "    return lcm_of_list(lengths)"
      ],
      "metadata": {
        "id": "h4DJJI7H2aPN"
      },
      "execution_count": 42,
      "outputs": []
    },
    {
      "cell_type": "markdown",
      "source": [
        "## Counting 123"
      ],
      "metadata": {
        "id": "bg1nu4bIloWn"
      }
    },
    {
      "cell_type": "code",
      "source": [
        "def simple_counting(n: int) -> List[int]:\n",
        "  \"\"\"\n",
        "  \"simple counting:\n",
        "  1\n",
        "  2\n",
        "  3\" (19)\n",
        "\n",
        "  Args:\n",
        "    n: an integer\n",
        "  Returns:\n",
        "    a list of integers from 1 to n\n",
        "  \"\"\"\n",
        "  return [i for i in range(1, n+1)]\n",
        "\n",
        "assert simple_counting(3) == [1, 2, 3], \"simple_counting(3) did not return [1, 2, 3]\"\n",
        "\n",
        "def accumulative(melody: NestedList) -> NestedList:\n",
        "  \"\"\"\n",
        "  \"accumulative (2 becomes 12 and 3 becomes 123).\" (19)\n",
        "\n",
        "  Args:\n",
        "    melody: an integer or nested list of integers.\n",
        "  Returns:\n",
        "    a list or nested list of accumulating groups of integers from 1 to n\n",
        "  \"\"\"\n",
        "  if isinstance(melody, int):\n",
        "    return simple_counting(melody)\n",
        "  else:\n",
        "    return [accumulative(i) for i in melody]\n",
        "\n",
        "\n",
        "assert accumulative(simple_counting(3)) == [[1], [1, 2], [1, 2, 3]], \"accumulative(simple_counting(3)) did not return [[1], [1, 2], [1, 2, 3]]\"\n",
        "\n",
        "def repetitive(melody: NestedList) -> NestedList:\n",
        "  \"\"\"\n",
        "  \"repetitive… (every 2 becomes 22 and every 3 becomes 333)\" (19)\n",
        "\n",
        "  Args:\n",
        "    melody: an integer or nested list of integers.\n",
        "  Returns:\n",
        "    a list or nested list of repeating integers\n",
        "  \"\"\"\n",
        "  if isinstance(melody, int):\n",
        "    return [melody for i in range(melody)]\n",
        "  else:\n",
        "    return [repetitive(i) for i in melody]\n",
        "\n",
        "assert repetitive(simple_counting(3)) == [[1], [2, 2], [3, 3, 3]], \"repetitive(simple_counting(3)) did not return [[1], [2, 2], [3, 3, 3]]\""
      ],
      "metadata": {
        "id": "oHXDgkC5lqi2"
      },
      "execution_count": 3,
      "outputs": []
    },
    {
      "cell_type": "code",
      "source": [
        "# Page 19\n",
        "assert repetitive(accumulative(simple_counting(3))) == [[[1]], [[1], [2, 2]], [[1], [2, 2], [3, 3, 3]]], \\\n",
        "  \"repetitive(accumulative(simple_counting(3))) did not return [[[1]], [[1], [2, 2]], [[1], [2, 2], [3, 3, 3]]]\"\n",
        "assert accumulative(repetitive(simple_counting(3))) == [[[1]], [[1, 2], [1, 2]], [[1, 2, 3], [1, 2, 3], [1, 2, 3]]], \\\n",
        "  \"accumulative(repetitive(simple_counting(3))) did not return [[[1]], [[1, 2], [1, 2]], [[1, 2, 3], [1, 2, 3], [1, 2, 3]]]\""
      ],
      "metadata": {
        "id": "fDXOAdqF5dDu"
      },
      "execution_count": 45,
      "outputs": []
    },
    {
      "cell_type": "code",
      "source": [
        "# Page 20\n",
        "assert flatten(accumulative(accumulative(repetitive(accumulative(simple_counting(3)))))) == \\\n",
        "  [1, 1, 1, 1, 2, 1, 1, 2, 1, 1, 1, 2, 1, 1, 2, 1, 1, 2, 1, 2, 3, 1, 1, 2, 1, 2, 3, 1, 1, 2, 1, 2, 3], \\\n",
        "  \"flatten(accumulative(accumulative(repetitive(accumulative(simple_counting(3)))))) did not return [1, 1, 1, 1, 2, 1, 1, 2, 1, 1, 1, 2, 1, 1, 2, 1, 1, 2, 1, 2, 3, 1, 1, 2, 1, 2, 3, 1, 1, 2, 1, 2, 3]\""
      ],
      "metadata": {
        "id": "48YMQxU7_oel"
      },
      "execution_count": 46,
      "outputs": []
    },
    {
      "cell_type": "code",
      "source": [
        "def simple_palindrome(n: int) -> List[int]:\n",
        "  \"\"\"\n",
        "  \"simple:\n",
        "  1\n",
        "  2\n",
        "  3\n",
        "  2\n",
        "  1\" (24)\n",
        "\n",
        "  Args:\n",
        "    n: an integer\n",
        "  Returns:\n",
        "    a list of integers from 1 to n and then back to 1\n",
        "  \"\"\"\n",
        "  return [i for i in range(1, n + 1)] + [i for i in range(n - 1, 0, -1)]\n",
        "\n",
        "assert simple_palindrome(3) == [1, 2, 3, 2, 1], \"simple_palindrome(3) did not return [1, 2, 3, 2, 1]\"\n",
        "\n",
        "def accumulative_palindrome(melody: NestedList) -> NestedList:\n",
        "  \"\"\"\n",
        "  \"accumulative:\n",
        "  1\n",
        "  1 2 1\n",
        "  1 2 3 2 1\n",
        "  1 2 1\n",
        "  1\" (24)\n",
        "\n",
        "  Args:\n",
        "    melody: an integer or nested list of integers.\n",
        "  Returns:\n",
        "    a list or nested list of accumulating groups of integers from 1 to n and then back to 1\n",
        "  \"\"\"\n",
        "  if isinstance(melody, int):\n",
        "    return simple_palindrome(melody)\n",
        "  else:\n",
        "    return [accumulative_palindrome(i) for i in melody]\n",
        "\n",
        "assert accumulative_palindrome(simple_palindrome(3)) == [[1], [1, 2, 1], [1, 2, 3, 2, 1], [1, 2, 1], [1]], \\\n",
        "  \"accumulative_palindrome(simple_palindrome(3)) did not return [[1], [1, 2, 1], [1, 2, 3, 2, 1], [1, 2, 1], [1]]\""
      ],
      "metadata": {
        "id": "P1ABYNdHCp_E"
      },
      "execution_count": 24,
      "outputs": []
    },
    {
      "cell_type": "code",
      "source": [
        "# Page 24\n",
        "assert flatten(accumulative_palindrome(accumulative_palindrome(simple_palindrome(3)))) == \\\n",
        "  [1, 1, 1, 2, 1, 1, 1, 1, 2, 1, 1, 2, 3, 2, 1, 1, 2, 1, 1, 1, 1, 2, 1, 1, 1],\\\n",
        "  \"flatten(accumulative_palindrome(accumulative_palindrome(simple_palindrome(3)))) did not return [1, 1, 1, 2, 1, 1, 1, 1, 2, 1, 1, 2, 3, 2, 1, 1, 2, 1, 1, 1, 1, 2, 1, 1, 1]\""
      ],
      "metadata": {
        "id": "GZ2XdWGREYJo"
      },
      "execution_count": 54,
      "outputs": []
    },
    {
      "cell_type": "code",
      "source": [
        "# Page 25\n",
        "assert flatten(repetitive(accumulative_palindrome(simple_palindrome(3)))) == \\\n",
        "  [1, 1, 2, 2, 1, 1, 2, 2, 3, 3, 3, 2, 2, 1, 1, 2, 2, 1, 1], \\\n",
        "  \"flatten(repetitive(accumulative_palindrome(simple_palindrome(3)))) didd not return [1, 1, 2, 2, 1, 1, 2, 2, 3, 3, 3, 2, 2, 1, 1, 2, 2, 1, 1]\"\n",
        "assert flatten(repetitive(simple_palindrome(3))) == [1, 2, 2, 3, 3, 3, 2, 2, 1], \\\n",
        "  \"flatten(repetitive(simple_palindrome(3))) didd not return [1, 2, 2, 3, 3, 3, 2, 2, 1]\""
      ],
      "metadata": {
        "id": "BShogLXBGu-U"
      },
      "execution_count": 56,
      "outputs": []
    },
    {
      "cell_type": "code",
      "source": [
        "# Page 26\n",
        "assert flatten(accumulative_palindrome(repetitive(simple_palindrome(3)))) == \\\n",
        "  [1, 1, 2, 1, 1, 2, 1, 1, 2, 3, 2, 1, 1, 2, 3, 2, 1, 1, 2, 3, 2, 1, 1, 2, 1, 1, 2, 1, 1], \\\n",
        "  \"flatten(accumulative_palindrome(repetitive(simple_palindrome(3)))) did not return [1, 1, 2, 1, 1, 2, 1, 1, 2, 3, 2, 1, 1, 2, 3, 2, 1, 1, 2, 3, 2, 1, 1, 2, 1, 1, 2, 1, 1]\""
      ],
      "metadata": {
        "id": "Aq9EYLLMHau4"
      },
      "execution_count": 59,
      "outputs": []
    },
    {
      "cell_type": "markdown",
      "source": [
        "## Counting Several Things at Once"
      ],
      "metadata": {
        "id": "wTekVdyblqzj"
      }
    },
    {
      "cell_type": "code",
      "source": [
        "def count_at_once_replacement(repetitions: int, melody: NestedList) -> NestedList:\n",
        "  \"\"\"\n",
        "  \"The same thing that musicians and dancers, and\n",
        "  probably lots of other people, have been doing for\n",
        "  centuries:\n",
        "  _1_ 2 3 4\n",
        "  _2_ 2 3 4\n",
        "  _3_ 2 3 4\n",
        "  _4_ 2 3 4\" (29)\n",
        "\n",
        "  Args:\n",
        "    repetitions: an integer.\n",
        "    melody: an integer or nested list of integers.\n",
        "  Returns:\n",
        "    a repeating list of integers where the head is replaced by the iteration.\n",
        "  \"\"\"\n",
        "  if isinstance(melody, int):\n",
        "    melody = simple_counting(melody)\n",
        "  if all(isinstance(i, int) for i in melody):\n",
        "    # pretty sure the recursion breaks unless I flatten.\n",
        "    return [flatten([i + 1, melody[1:]]) for i in range(repetitions)]\n",
        "  else:\n",
        "    return [[count_at_once_replacement(repetitions, melody[n])] for n in range(len(melody)) for i in range(repetitions)]\n",
        "\n",
        "assert count_at_once_replacement(3, [1, 2, 3, 4]) == [[1, 2, 3, 4], [2, 2, 3, 4], [3, 2, 3, 4]], \\\n",
        "  \"count_at_once_replacement(3, [1, 2, 3, 4]) did not return [[1, 2, 3, 4], [2, 2, 3, 4], [3, 2, 3, 4]]\"\n",
        "assert count_at_once_replacement(3, 4) == [[1, 2, 3, 4], [2, 2, 3, 4], [3, 2, 3, 4]], \\\n",
        "  \"count_at_once_replacement(3, 4) did not return [[1, 2, 3, 4], [2, 2, 3, 4], [3, 2, 3, 4]]\"\n",
        "\n",
        "def count_at_once_leading(repetitions: int, melody: NestedList) -> NestedList:\n",
        "  \"\"\"\n",
        "  \"we can put the multiplier either before the quick 1 2 3 4\" (32)\n",
        "\n",
        "  Args:\n",
        "    repetitions: an integer.\n",
        "    melody: an integer or nested list of integers.\n",
        "  Returns:\n",
        "    a repeating list of integers where each repetition is led by the iteration count.\n",
        "  \"\"\"\n",
        "  if isinstance(melody, int):\n",
        "    melody = simple_counting(melody)\n",
        "  if all(isinstance(i, int) for i in melody):\n",
        "    # pretty sure the recursion breaks unless I flatten.\n",
        "    return [[i + 1, melody] for i in range(repetitions)]\n",
        "  else:\n",
        "    return [[i + 1, count_at_once_replacement(repetitions, melody[n])] for n in range(len(melody)) for i in range(repetitions)]\n",
        "\n",
        "assert count_at_once_leading(3, [1, 2, 3, 4]) == [[1, [1, 2, 3, 4]], [2, [1, 2, 3, 4]], [3, [1, 2, 3, 4]]], \\\n",
        "  \"count_at_once_leading(3, [1, 2, 3, 4]) did not return [[1, [1, 2, 3, 4]], [2, [1, 2, 3, 4]], [3, [1, 2, 3, 4]]]\"\n",
        "\n",
        "def count_at_once_trailing(repetitions: int, melody: NestedList) -> NestedList:\n",
        "  \"\"\"\n",
        "  \"or after it\" (32)\n",
        "\n",
        "  Args:\n",
        "    repetitions: an integer.\n",
        "    melody: an integer or nested list of integers.\n",
        "  Returns:\n",
        "    a repeating list of integers where each repetition is trailed by the iteration count.\n",
        "  \"\"\"\n",
        "  if isinstance(melody, int):\n",
        "    melody = simple_counting(melody)\n",
        "  if all(isinstance(i, int) for i in melody):\n",
        "    return [[melody, i + 1] for i in range(repetitions)]\n",
        "  else:\n",
        "    return [[count_at_once_replacement(repetitions, melody[n]), i +  1] for n in range(len(melody)) for i in range(repetitions)]\n",
        "\n",
        "assert count_at_once_trailing(3, [1, 2, 3, 4]) == [[[1, 2, 3, 4], 1], [[1, 2, 3, 4], 2], [[1, 2, 3, 4], 3]], \\\n",
        "  \"count_at_once_trailing(3, [1, 2, 3, 4]) did not return [[[1, 2, 3, 4], 1], [[1, 2, 3, 4], 2], [[1, 2, 3, 4], 3]]\"\n",
        "\n",
        "def count_at_once_threaded(melodies: NestedList) -> NestedList:\n",
        "  \"\"\"\n",
        "  \"Another way of counting on several levels at once is to think of a melody as\n",
        "  having several voices. Suppose that one voice counts 1 2 3 4 3 2 1 and\n",
        "  another voice counts 1 2 3 4 5 4 3 2 1 and the two continue until they go\n",
        "  full cycle.\" (34)\n",
        "\n",
        "  Args:\n",
        "    melodies: an integer or nested list of integers.\n",
        "  Returns:\n",
        "    a blended list of integers.\n",
        "  \"\"\"\n",
        "  if isinstance(melodies, int):\n",
        "    melodies = [simple_palindrome(n) for n in range(1, melodies + 1)]\n",
        "  cycles = [itertools.cycle(melody) for melody in melodies]\n",
        "  length = min_cycle_length(melodies)\n",
        "  result = []\n",
        "  for _ in range(length):\n",
        "    sublist = list(next(it) for it in cycles)\n",
        "    result.append(sublist)\n",
        "\n",
        "  return result\n",
        "\n",
        "# Page 34–35. NB: Johnson doesn't properly follow the formula and omits the\n",
        "# trailing 1.\n",
        "assert count_at_once_threaded([[1, 2, 3, 4, 5, 4, 3, 2], [1, 2, 3, 4, 3, 2]]) == \\\n",
        " [[1, 1], [2, 2], [3, 3], [4, 4], [5, 3], [4, 2], [3, 1], [2, 2], [1, 3], [2, 4], [3, 3], [4, \\\n",
        "  2], [5, 1], [4, 2], [3, 3], [2, 4], [1, 3], [2, 2], [3, 1], [4, 2], [5, 3], [4, 4], [3, 3], [2, 2]], \\\n",
        "  \"count_at_once_threaded([[1, 2, 3, 4, 5, 4, 3, 2], [1, 2, 3, 4, 3, 2]]) did not return expected result.\""
      ],
      "metadata": {
        "id": "Fxog-lDsltfG"
      },
      "execution_count": 83,
      "outputs": []
    },
    {
      "cell_type": "markdown",
      "source": [
        "## Counting in Other Bases"
      ],
      "metadata": {
        "id": "i9sJjD-CluD4"
      }
    },
    {
      "cell_type": "code",
      "source": [],
      "metadata": {
        "id": "oWl4iotslv5D"
      },
      "execution_count": 82,
      "outputs": []
    },
    {
      "cell_type": "markdown",
      "source": [
        "## Counting in Circles"
      ],
      "metadata": {
        "id": "v3jQ1tFXlwc_"
      }
    },
    {
      "cell_type": "code",
      "source": [],
      "metadata": {
        "id": "yF7x_ydGlytQ"
      },
      "execution_count": 82,
      "outputs": []
    },
    {
      "cell_type": "markdown",
      "source": [
        "## Counting with Computer"
      ],
      "metadata": {
        "id": "R35kjhhylzbE"
      }
    },
    {
      "cell_type": "code",
      "source": [],
      "metadata": {
        "id": "wxA0GtHAl1Nw"
      },
      "execution_count": null,
      "outputs": []
    }
  ]
}