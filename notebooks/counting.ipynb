{
  "nbformat": 4,
  "nbformat_minor": 0,
  "metadata": {
    "colab": {
      "provenance": [],
      "authorship_tag": "ABX9TyPH6Eh7YOsLr1yF7FWmezho",
      "include_colab_link": true
    },
    "kernelspec": {
      "name": "python3",
      "display_name": "Python 3"
    },
    "language_info": {
      "name": "python"
    }
  },
  "cells": [
    {
      "cell_type": "markdown",
      "metadata": {
        "id": "view-in-github",
        "colab_type": "text"
      },
      "source": [
        "<a href=\"https://colab.research.google.com/github/muziejus/self-similar-melodies/blob/main/notebooks/counting.ipynb\" target=\"_parent\"><img src=\"https://colab.research.google.com/assets/colab-badge.svg\" alt=\"Open In Colab\"/></a>"
      ]
    },
    {
      "cell_type": "markdown",
      "source": [
        "# Counting"
      ],
      "metadata": {
        "id": "wwM36qEUlj7s"
      }
    },
    {
      "cell_type": "code",
      "execution_count": null,
      "metadata": {
        "id": "j_4XXE82lgy0"
      },
      "outputs": [],
      "source": []
    },
    {
      "cell_type": "markdown",
      "source": [
        "## Counting 123"
      ],
      "metadata": {
        "id": "bg1nu4bIloWn"
      }
    },
    {
      "cell_type": "code",
      "source": [],
      "metadata": {
        "id": "oHXDgkC5lqi2"
      },
      "execution_count": null,
      "outputs": []
    },
    {
      "cell_type": "markdown",
      "source": [
        "## Counting Several Things at Once"
      ],
      "metadata": {
        "id": "wTekVdyblqzj"
      }
    },
    {
      "cell_type": "code",
      "source": [],
      "metadata": {
        "id": "Fxog-lDsltfG"
      },
      "execution_count": null,
      "outputs": []
    },
    {
      "cell_type": "markdown",
      "source": [
        "## Counting in Other Bases"
      ],
      "metadata": {
        "id": "i9sJjD-CluD4"
      }
    },
    {
      "cell_type": "code",
      "source": [],
      "metadata": {
        "id": "oWl4iotslv5D"
      },
      "execution_count": null,
      "outputs": []
    },
    {
      "cell_type": "markdown",
      "source": [
        "## Counting in Circles"
      ],
      "metadata": {
        "id": "v3jQ1tFXlwc_"
      }
    },
    {
      "cell_type": "code",
      "source": [],
      "metadata": {
        "id": "yF7x_ydGlytQ"
      },
      "execution_count": null,
      "outputs": []
    },
    {
      "cell_type": "markdown",
      "source": [
        "## Counting with Computer"
      ],
      "metadata": {
        "id": "R35kjhhylzbE"
      }
    },
    {
      "cell_type": "code",
      "source": [],
      "metadata": {
        "id": "wxA0GtHAl1Nw"
      },
      "execution_count": null,
      "outputs": []
    }
  ]
}